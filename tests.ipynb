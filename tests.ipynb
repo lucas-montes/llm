{
 "cells": [
  {
   "cell_type": "code",
   "execution_count": 1,
   "id": "8e310db9",
   "metadata": {},
   "outputs": [
    {
     "name": "stderr",
     "output_type": "stream",
     "text": [
      "/nix/store/v1bkq59yxcf4ys3np121vpmb2abgnh72-python3.12-torch-2.7.0/lib/python3.12/site-packages/torch/_subclasses/functional_tensor.py:276: UserWarning: Failed to initialize NumPy: No module named 'numpy' (Triggered internally at /build/pytorch/torch/csrc/utils/tensor_numpy.cpp:81.)\n",
      "  cpu = _conversion_method_template(device=torch.device(\"cpu\"))\n"
     ]
    }
   ],
   "source": [
    "import torch.nn as nn\n",
    "import torch\n",
    "from torch.nn.parameter import Parameter"
   ]
  },
  {
   "cell_type": "code",
   "execution_count": 57,
   "id": "4f2e196a",
   "metadata": {},
   "outputs": [],
   "source": [
    "a=torch.tensor([[1,2],[3,4]])\n",
    "b=torch.tensor([[1,2]])"
   ]
  },
  {
   "cell_type": "code",
   "execution_count": 58,
   "id": "d502e11d",
   "metadata": {},
   "outputs": [
    {
     "data": {
      "text/plain": [
       "tensor([[2, 4],\n",
       "        [4, 6]])"
      ]
     },
     "execution_count": 58,
     "metadata": {},
     "output_type": "execute_result"
    }
   ],
   "source": [
    "a + b"
   ]
  },
  {
   "cell_type": "code",
   "execution_count": 61,
   "id": "fa96042e",
   "metadata": {},
   "outputs": [
    {
     "data": {
      "text/plain": [
       "tensor([[ 2.5000],\n",
       "        [12.5000]])"
      ]
     },
     "execution_count": 61,
     "metadata": {},
     "output_type": "execute_result"
    }
   ],
   "source": [
    "a.float().pow(2).mean(dim=-1, keepdim=True)"
   ]
  },
  {
   "cell_type": "code",
   "execution_count": 62,
   "id": "6db97b69",
   "metadata": {},
   "outputs": [
    {
     "data": {
      "text/plain": [
       "tensor([[1.0000, 1.4142],\n",
       "        [3.0000, 2.8284]])"
      ]
     },
     "execution_count": 62,
     "metadata": {},
     "output_type": "execute_result"
    }
   ],
   "source": [
    "a * torch.rsqrt(b + 1e-6)"
   ]
  },
  {
   "cell_type": "code",
   "execution_count": null,
   "id": "0723fb61",
   "metadata": {},
   "outputs": [],
   "source": [
    "class FeedForward(nn.Module):\n",
    "    def __init__(self, cfg):\n",
    "        super().__init__()\n",
    "        self.fc1 = nn.Linear(cfg[\"emb_dim\"], cfg[\"hidden_dim\"], dtype=cfg[\"dtype\"], bias=False)\n",
    "        self.fc2 = nn.Linear(cfg[\"emb_dim\"], cfg[\"hidden_dim\"], dtype=cfg[\"dtype\"], bias=False)\n",
    "        self.fc3 = nn.Linear(cfg[\"hidden_dim\"], cfg[\"emb_dim\"], dtype=cfg[\"dtype\"], bias=False)\n",
    "\n",
    "    def forward(self, x):\n",
    "        x_fc1 = self.fc1(x)\n",
    "        x_fc2 = self.fc2(x)\n",
    "        x = nn.functional.gelu(x_fc1, approximate=\"tanh\") * x_fc2\n",
    "        return self.fc3(x)"
   ]
  },
  {
   "cell_type": "code",
   "execution_count": 84,
   "id": "8e8319d7",
   "metadata": {},
   "outputs": [],
   "source": [
    "# Set seed for reproducible results\n",
    "torch.manual_seed(1)\n",
    "import random\n",
    "random.seed(1)"
   ]
  },
  {
   "cell_type": "code",
   "execution_count": 90,
   "id": "d297ff4d",
   "metadata": {},
   "outputs": [
    {
     "name": "stdout",
     "output_type": "stream",
     "text": [
      "Input: tensor([[1., 2.],\n",
      "        [3., 4.]])\n",
      "Input shape: torch.Size([2, 2])\n",
      "\n",
      "Weight matrix shape: torch.Size([3, 2])\n",
      "Weight matrix:\n",
      "Parameter containing:\n",
      "tensor([[ 0.1975,  0.6707],\n",
      "        [ 0.4667, -0.6443],\n",
      "        [-0.6723, -0.3411]], requires_grad=True)\n",
      "\n",
      "Output shape: torch.Size([2, 3])\n",
      "Output:\n",
      "tensor([[2.7734, 2.1795, 1.0524],\n",
      "        [6.3718, 5.1561, 2.3012]], grad_fn=<MmBackward0>)\n",
      "\n",
      "Manual computation (input @ weight.T):\n",
      "tensor([[2.7734, 2.1795, 1.0524],\n",
      "        [6.3718, 5.1561, 2.3012]], grad_fn=<MmBackward0>)\n",
      "Results match: True\n"
     ]
    }
   ],
   "source": [
    "# Create test data\n",
    "input_data = torch.tensor([[1.0, 2.0], [3.0, 4.0]])  # 2x2 input\n",
    "print(f\"Input: {input_data}\")\n",
    "print(f\"Input shape: {input_data.shape}\")\n",
    "\n",
    "# Create Linear layer: 2 inputs -> 3 outputs, no bias\n",
    "linear = nn.Linear(2, 3, bias=False, dtype=torch.float32)\n",
    "\n",
    "# Print the randomly initialized weights\n",
    "print(f\"\\nWeight matrix shape: {linear.weight.shape}\")\n",
    "print(f\"Weight matrix:\\n{linear.weight}\")\n",
    "\n",
    "known_weights = torch.tensor([\n",
    "  [  0.8250,   0.9742],\n",
    "  [  0.7971,   0.6912],\n",
    "  [  0.1964,   0.4280]\n",
    "])\n",
    "\n",
    "# Override the randomly initialized weights\n",
    "linear.weight.data = known_weights\n",
    "\n",
    "\n",
    "# Forward pass\n",
    "output = linear(input_data)\n",
    "print(f\"\\nOutput shape: {output.shape}\")\n",
    "print(f\"Output:\\n{output}\")\n",
    "\n",
    "# Manual computation to verify\n",
    "manual_output = input_data @ linear.weight.T\n",
    "print(f\"\\nManual computation (input @ weight.T):\\n{manual_output}\")\n",
    "print(f\"Results match: {torch.allclose(output, manual_output)}\")"
   ]
  },
  {
   "cell_type": "code",
   "execution_count": 93,
   "id": "5dab80f6",
   "metadata": {},
   "outputs": [
    {
     "name": "stdout",
     "output_type": "stream",
     "text": [
      "Input: tensor([[1., 2.],\n",
      "        [3., 4.]])\n",
      "Input shape: torch.Size([2, 2])\n",
      "\n",
      "Output shape: torch.Size([2, 3])\n",
      "Output:\n",
      "tensor([[3.5984, 3.1537, 1.8495],\n",
      "        [7.1968, 6.1303, 3.0983]], grad_fn=<AddmmBackward0>)\n"
     ]
    }
   ],
   "source": [
    "\n",
    "# Create test data\n",
    "input_data = torch.tensor([[1.0, 2.0], [3.0, 4.0]])  # 2x2 input\n",
    "print(f\"Input: {input_data}\")\n",
    "print(f\"Input shape: {input_data.shape}\")\n",
    "\n",
    "# Create Linear layer: 2 inputs -> 3 outputs, no bias\n",
    "linear = nn.Linear(2, 3, bias=True, dtype=torch.float32)\n",
    "\n",
    "known_weights = torch.tensor([\n",
    "  [  0.8250,   0.9742],\n",
    "  [  0.7971,   0.6912],\n",
    "  [  0.1964,   0.4280]\n",
    "])\n",
    "\n",
    "# Override the randomly initialized weights\n",
    "linear.weight.data = known_weights\n",
    "linear.bias.data = torch.tensor([\n",
    "  [  0.8250,   0.9742,   0.7971]\n",
    "])\n",
    "\n",
    "\n",
    "# Forward pass\n",
    "output = linear(input_data)\n",
    "print(f\"\\nOutput shape: {output.shape}\")\n",
    "print(f\"Output:\\n{output}\")\n"
   ]
  },
  {
   "cell_type": "code",
   "execution_count": 68,
   "id": "950f3845",
   "metadata": {},
   "outputs": [],
   "source": [
    "out_features = 3\n",
    "in_features = 2\n",
    "\n",
    "weight = Parameter(torch.empty((out_features, in_features)))\n",
    "bias = Parameter(torch.empty(out_features))"
   ]
  },
  {
   "cell_type": "code",
   "execution_count": 64,
   "id": "1156ce49",
   "metadata": {},
   "outputs": [
    {
     "data": {
      "text/plain": [
       "Parameter containing:\n",
       "tensor([[1.5378e-13, 0.0000e+00],\n",
       "        [0.0000e+00, 0.0000e+00],\n",
       "        [0.0000e+00, 4.5661e-41]], requires_grad=True)"
      ]
     },
     "execution_count": 64,
     "metadata": {},
     "output_type": "execute_result"
    }
   ],
   "source": [
    "weight"
   ]
  },
  {
   "cell_type": "code",
   "execution_count": 69,
   "id": "9b8d6c35",
   "metadata": {},
   "outputs": [
    {
     "data": {
      "text/plain": [
       "Parameter containing:\n",
       "tensor([1.1390e-13, 0.0000e+00, 0.0000e+00], requires_grad=True)"
      ]
     },
     "execution_count": 69,
     "metadata": {},
     "output_type": "execute_result"
    }
   ],
   "source": [
    "bias"
   ]
  }
 ],
 "metadata": {
  "kernelspec": {
   "display_name": ".venv",
   "language": "python",
   "name": "python3"
  },
  "language_info": {
   "codemirror_mode": {
    "name": "ipython",
    "version": 3
   },
   "file_extension": ".py",
   "mimetype": "text/x-python",
   "name": "python",
   "nbconvert_exporter": "python",
   "pygments_lexer": "ipython3",
   "version": "3.12.11"
  }
 },
 "nbformat": 4,
 "nbformat_minor": 5
}
