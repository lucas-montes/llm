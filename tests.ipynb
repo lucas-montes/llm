{
 "cells": [
  {
   "cell_type": "code",
   "execution_count": 1,
   "id": "8e310db9",
   "metadata": {},
   "outputs": [
    {
     "name": "stderr",
     "output_type": "stream",
     "text": [
      "/nix/store/v1bkq59yxcf4ys3np121vpmb2abgnh72-python3.12-torch-2.7.0/lib/python3.12/site-packages/torch/_subclasses/functional_tensor.py:276: UserWarning: Failed to initialize NumPy: No module named 'numpy' (Triggered internally at /build/pytorch/torch/csrc/utils/tensor_numpy.cpp:81.)\n",
      "  cpu = _conversion_method_template(device=torch.device(\"cpu\"))\n"
     ]
    }
   ],
   "source": [
    "import torch.nn as nn\n",
    "import torch\n",
    "from torch.nn.parameter import Parameter"
   ]
  },
  {
   "cell_type": "code",
   "execution_count": 49,
   "id": "4f2e196a",
   "metadata": {},
   "outputs": [],
   "source": [
    "a=torch.tensor([[1,2],[3,4]])"
   ]
  },
  {
   "cell_type": "code",
   "execution_count": 52,
   "id": "d502e11d",
   "metadata": {},
   "outputs": [
    {
     "data": {
      "text/plain": [
       "tensor(2.5000, dtype=torch.float64)"
      ]
     },
     "execution_count": 52,
     "metadata": {},
     "output_type": "execute_result"
    }
   ],
   "source": [
    "a.mean(dtype=torch.float64)"
   ]
  },
  {
   "cell_type": "code",
   "execution_count": 2,
   "id": "950f3845",
   "metadata": {},
   "outputs": [],
   "source": [
    "out_features = 10\n",
    "in_features = 5\n",
    "\n",
    "weight = Parameter(\n",
    "            torch.empty((out_features, in_features))\n",
    "        )\n",
    "bias = Parameter(torch.empty(out_features))"
   ]
  },
  {
   "cell_type": "code",
   "execution_count": 4,
   "id": "1156ce49",
   "metadata": {},
   "outputs": [
    {
     "data": {
      "text/plain": [
       "Parameter containing:\n",
       "tensor([[1.1327e-13, 0.0000e+00, 0.0000e+00, 0.0000e+00, 2.7074e+23],\n",
       "        [3.0304e+35, 1.4226e-13, 6.0542e+22, 7.8675e+34, 4.6894e+27],\n",
       "        [1.6217e-19, 7.3471e+28, 2.6383e+23, 2.7376e+20, 6.3828e+28],\n",
       "        [1.4603e-19, 1.8888e+31, 4.9656e+28, 7.9463e+08, 3.2604e-12],\n",
       "        [2.6209e+20, 4.1641e+12, 8.9625e-01, 7.9309e+34, 7.9439e+08],\n",
       "        [3.2604e-12, 7.3113e+34, 9.5492e-01, 7.3154e+34, 5.9682e-02],\n",
       "        [7.0374e+22, 5.7886e+22, 6.7120e+22, 6.7331e+22, 6.7120e+22],\n",
       "        [1.8515e+28, 7.3867e+20, 9.2358e-01, 1.8061e+28, 4.4378e+27],\n",
       "        [6.0900e-02, 1.8728e+31, 7.3867e+20, 9.2358e-01, 1.1362e+30],\n",
       "        [7.1547e+22, 4.5828e+30, 1.2121e+04, 7.1846e+22, 7.9168e+07]],\n",
       "       requires_grad=True)"
      ]
     },
     "execution_count": 4,
     "metadata": {},
     "output_type": "execute_result"
    }
   ],
   "source": [
    "weight"
   ]
  },
  {
   "cell_type": "code",
   "execution_count": 3,
   "id": "9b8d6c35",
   "metadata": {},
   "outputs": [
    {
     "data": {
      "text/plain": [
       "Parameter containing:\n",
       "tensor([5.7639e-14, 0.0000e+00, 0.0000e+00, 0.0000e+00, 2.7006e+26, 5.9442e-02,\n",
       "        7.0374e+22, 0.0000e+00, 0.0000e+00, 0.0000e+00], requires_grad=True)"
      ]
     },
     "execution_count": 3,
     "metadata": {},
     "output_type": "execute_result"
    }
   ],
   "source": [
    "bias"
   ]
  }
 ],
 "metadata": {
  "kernelspec": {
   "display_name": ".venv",
   "language": "python",
   "name": "python3"
  },
  "language_info": {
   "codemirror_mode": {
    "name": "ipython",
    "version": 3
   },
   "file_extension": ".py",
   "mimetype": "text/x-python",
   "name": "python",
   "nbconvert_exporter": "python",
   "pygments_lexer": "ipython3",
   "version": "3.12.11"
  }
 },
 "nbformat": 4,
 "nbformat_minor": 5
}
